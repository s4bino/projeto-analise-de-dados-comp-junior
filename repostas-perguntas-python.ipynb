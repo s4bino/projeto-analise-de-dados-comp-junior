{
 "cells": [
  {
   "cell_type": "markdown",
   "id": "7034d7f8",
   "metadata": {},
   "source": [
    "<img src=\"https://compjunior.com.br/img/LOGO.37469763.png\">\n",
    "\n",
    "# Bem-vindos ao Processo Seletivo da Comp Júnior!\n",
    "\n",
    "Parabéns por ter chegado até esta etapa do processo seletivo para treinees da Comp Júnior, a empresa júnior da Universidade Federal de Lavras (UFLA). Nesta avaliação, você será desafiado a demonstrar suas habilidades de análise de dados utilizando Python, juntamente com as bibliotecas Numpy, Pandas e Matplotlib.\n",
    "\n",
    "## Contexto do Problema\n",
    "\n",
    "Você foi contratado como analista de dados pela Comp Júnior e sua primeira tarefa é analisar um conjunto de dados de vendas da nossa recém-adquirida loja online. O objetivo é extrair insights que ajudarão a empresa a entender melhor o comportamento de compra dos clientes, avaliar o desempenho das vendas e otimizar as operações logísticas.\n",
    "\n",
    "### Dados Disponíveis\n",
    "\n",
    "Os dados incluem informações sobre clientes, pedidos e produtos. Seu desafio é processar, analisar e visualizar esses dados para responder às questões propostas abaixo.\n",
    "\n",
    "<a href=\"https://drive.google.com/file/d/1cgKWKH1pH_6sAlYjEPkcR_KM1XRrSubh/view?usp=sharing\" target=\"_blank\">Clique aqui para baixar as três tabelas.</a>\n",
    "\n",
    "Lembre-se de colocar os dados no mesmo diretório do arquivo e <strong>boa sorte e que você possa demonstrar todo o seu potencial</strong>!"
   ]
  },
  {
   "cell_type": "markdown",
   "id": "050de7ad",
   "metadata": {},
   "source": [
    "# Exercícios\n",
    "\n",
    "## Bibliotecas\n",
    "Utilize a célula abaixo para importar TODAS as bibliotecas necessárias."
   ]
  },
  {
   "cell_type": "code",
   "execution_count": 2,
   "id": "cca70cf5",
   "metadata": {},
   "outputs": [],
   "source": [
    "import pandas as pd\n",
    "import numpy as np\n",
    "import matplotlib.pyplot as plt"
   ]
  },
  {
   "cell_type": "markdown",
   "id": "3990a4d2",
   "metadata": {},
   "source": [
    "## Exercício 01\n",
    "Na sua primeira tarefa como analista de dados na Comp Júnior, você precisa combinar informações de diferentes fontes para uma visão holística. Carregue os datasets de clientes, pedidos e produtos usando o Pandas e crie um único DataFrame unificando esses dados por suas chaves relevantes (customer_id, order_id). \n",
    "\n",
    "Apresente as primeiras cinco linhas do DataFrame resultante para verificação e atribua os seguintes nomes às respectivas tabelas:\n",
    "\n",
    "- **olist_customers_dataset**: customer_df\n",
    "- **olist_orders_dataset**: orders_df\n",
    "- **olist_order_items_dataset**: items_df\n",
    "- **Tabela única**: df"
   ]
  },
  {
   "cell_type": "code",
   "execution_count": 3,
   "id": "b3119458",
   "metadata": {},
   "outputs": [],
   "source": [
    "customer_df = pd.read_csv(\"Dados/olist_customers_dataset.csv\")\n",
    "orders_df = pd.read_csv(\"Dados/olist_orders_dataset.csv\")\n",
    "items_df = pd.read_csv(\"Dados/olist_order_items_dataset.csv\")"
   ]
  },
  {
   "cell_type": "code",
   "execution_count": 4,
   "id": "2e889d61-176f-42cf-9ba8-bc06142a4cbb",
   "metadata": {},
   "outputs": [],
   "source": [
    "df = orders_df.merge(customer_df, on='customer_id', how='inner')\n",
    "df = df.merge(items_df, on='order_id', how='inner')"
   ]
  },
  {
   "cell_type": "code",
   "execution_count": 5,
   "id": "106c1e8c-aa42-4166-b2d0-3d1bde786bcc",
   "metadata": {},
   "outputs": [
    {
     "data": {
      "text/html": [
       "<div>\n",
       "<style scoped>\n",
       "    .dataframe tbody tr th:only-of-type {\n",
       "        vertical-align: middle;\n",
       "    }\n",
       "\n",
       "    .dataframe tbody tr th {\n",
       "        vertical-align: top;\n",
       "    }\n",
       "\n",
       "    .dataframe thead th {\n",
       "        text-align: right;\n",
       "    }\n",
       "</style>\n",
       "<table border=\"1\" class=\"dataframe\">\n",
       "  <thead>\n",
       "    <tr style=\"text-align: right;\">\n",
       "      <th></th>\n",
       "      <th>order_id</th>\n",
       "      <th>customer_id</th>\n",
       "      <th>order_status</th>\n",
       "      <th>order_purchase_timestamp</th>\n",
       "      <th>order_approved_at</th>\n",
       "      <th>order_delivered_carrier_date</th>\n",
       "      <th>order_delivered_customer_date</th>\n",
       "      <th>order_estimated_delivery_date</th>\n",
       "      <th>customer_unique_id</th>\n",
       "      <th>customer_zip_code_prefix</th>\n",
       "      <th>customer_city</th>\n",
       "      <th>customer_state</th>\n",
       "      <th>order_item_id</th>\n",
       "      <th>product_id</th>\n",
       "      <th>seller_id</th>\n",
       "      <th>shipping_limit_date</th>\n",
       "      <th>price</th>\n",
       "      <th>freight_value</th>\n",
       "    </tr>\n",
       "  </thead>\n",
       "  <tbody>\n",
       "    <tr>\n",
       "      <th>0</th>\n",
       "      <td>e481f51cbdc54678b7cc49136f2d6af7</td>\n",
       "      <td>9ef432eb6251297304e76186b10a928d</td>\n",
       "      <td>delivered</td>\n",
       "      <td>2017-10-02 10:56:33</td>\n",
       "      <td>2017-10-02 11:07:15</td>\n",
       "      <td>2017-10-04 19:55:00</td>\n",
       "      <td>2017-10-10 21:25:13</td>\n",
       "      <td>2017-10-18 00:00:00</td>\n",
       "      <td>7c396fd4830fd04220f754e42b4e5bff</td>\n",
       "      <td>3149</td>\n",
       "      <td>sao paulo</td>\n",
       "      <td>SP</td>\n",
       "      <td>1</td>\n",
       "      <td>87285b34884572647811a353c7ac498a</td>\n",
       "      <td>3504c0cb71d7fa48d967e0e4c94d59d9</td>\n",
       "      <td>2017-10-06 11:07:15</td>\n",
       "      <td>29.99</td>\n",
       "      <td>8.72</td>\n",
       "    </tr>\n",
       "    <tr>\n",
       "      <th>1</th>\n",
       "      <td>53cdb2fc8bc7dce0b6741e2150273451</td>\n",
       "      <td>b0830fb4747a6c6d20dea0b8c802d7ef</td>\n",
       "      <td>delivered</td>\n",
       "      <td>2018-07-24 20:41:37</td>\n",
       "      <td>2018-07-26 03:24:27</td>\n",
       "      <td>2018-07-26 14:31:00</td>\n",
       "      <td>2018-08-07 15:27:45</td>\n",
       "      <td>2018-08-13 00:00:00</td>\n",
       "      <td>af07308b275d755c9edb36a90c618231</td>\n",
       "      <td>47813</td>\n",
       "      <td>barreiras</td>\n",
       "      <td>BA</td>\n",
       "      <td>1</td>\n",
       "      <td>595fac2a385ac33a80bd5114aec74eb8</td>\n",
       "      <td>289cdb325fb7e7f891c38608bf9e0962</td>\n",
       "      <td>2018-07-30 03:24:27</td>\n",
       "      <td>118.70</td>\n",
       "      <td>22.76</td>\n",
       "    </tr>\n",
       "    <tr>\n",
       "      <th>2</th>\n",
       "      <td>47770eb9100c2d0c44946d9cf07ec65d</td>\n",
       "      <td>41ce2a54c0b03bf3443c3d931a367089</td>\n",
       "      <td>delivered</td>\n",
       "      <td>2018-08-08 08:38:49</td>\n",
       "      <td>2018-08-08 08:55:23</td>\n",
       "      <td>2018-08-08 13:50:00</td>\n",
       "      <td>2018-08-17 18:06:29</td>\n",
       "      <td>2018-09-04 00:00:00</td>\n",
       "      <td>3a653a41f6f9fc3d2a113cf8398680e8</td>\n",
       "      <td>75265</td>\n",
       "      <td>vianopolis</td>\n",
       "      <td>GO</td>\n",
       "      <td>1</td>\n",
       "      <td>aa4383b373c6aca5d8797843e5594415</td>\n",
       "      <td>4869f7a5dfa277a7dca6462dcf3b52b2</td>\n",
       "      <td>2018-08-13 08:55:23</td>\n",
       "      <td>159.90</td>\n",
       "      <td>19.22</td>\n",
       "    </tr>\n",
       "    <tr>\n",
       "      <th>3</th>\n",
       "      <td>949d5b44dbf5de918fe9c16f97b45f8a</td>\n",
       "      <td>f88197465ea7920adcdbec7375364d82</td>\n",
       "      <td>delivered</td>\n",
       "      <td>2017-11-18 19:28:06</td>\n",
       "      <td>2017-11-18 19:45:59</td>\n",
       "      <td>2017-11-22 13:39:59</td>\n",
       "      <td>2017-12-02 00:28:42</td>\n",
       "      <td>2017-12-15 00:00:00</td>\n",
       "      <td>7c142cf63193a1473d2e66489a9ae977</td>\n",
       "      <td>59296</td>\n",
       "      <td>sao goncalo do amarante</td>\n",
       "      <td>RN</td>\n",
       "      <td>1</td>\n",
       "      <td>d0b61bfb1de832b15ba9d266ca96e5b0</td>\n",
       "      <td>66922902710d126a0e7d26b0e3805106</td>\n",
       "      <td>2017-11-23 19:45:59</td>\n",
       "      <td>45.00</td>\n",
       "      <td>27.20</td>\n",
       "    </tr>\n",
       "    <tr>\n",
       "      <th>4</th>\n",
       "      <td>ad21c59c0840e6cb83a9ceb5573f8159</td>\n",
       "      <td>8ab97904e6daea8866dbdbc4fb7aad2c</td>\n",
       "      <td>delivered</td>\n",
       "      <td>2018-02-13 21:18:39</td>\n",
       "      <td>2018-02-13 22:20:29</td>\n",
       "      <td>2018-02-14 19:46:34</td>\n",
       "      <td>2018-02-16 18:17:02</td>\n",
       "      <td>2018-02-26 00:00:00</td>\n",
       "      <td>72632f0f9dd73dfee390c9b22eb56dd6</td>\n",
       "      <td>9195</td>\n",
       "      <td>santo andre</td>\n",
       "      <td>SP</td>\n",
       "      <td>1</td>\n",
       "      <td>65266b2da20d04dbe00c5c2d3bb7859e</td>\n",
       "      <td>2c9e548be18521d1c43cde1c582c6de8</td>\n",
       "      <td>2018-02-19 20:31:37</td>\n",
       "      <td>19.90</td>\n",
       "      <td>8.72</td>\n",
       "    </tr>\n",
       "  </tbody>\n",
       "</table>\n",
       "</div>"
      ],
      "text/plain": [
       "                           order_id                       customer_id  \\\n",
       "0  e481f51cbdc54678b7cc49136f2d6af7  9ef432eb6251297304e76186b10a928d   \n",
       "1  53cdb2fc8bc7dce0b6741e2150273451  b0830fb4747a6c6d20dea0b8c802d7ef   \n",
       "2  47770eb9100c2d0c44946d9cf07ec65d  41ce2a54c0b03bf3443c3d931a367089   \n",
       "3  949d5b44dbf5de918fe9c16f97b45f8a  f88197465ea7920adcdbec7375364d82   \n",
       "4  ad21c59c0840e6cb83a9ceb5573f8159  8ab97904e6daea8866dbdbc4fb7aad2c   \n",
       "\n",
       "  order_status order_purchase_timestamp    order_approved_at  \\\n",
       "0    delivered      2017-10-02 10:56:33  2017-10-02 11:07:15   \n",
       "1    delivered      2018-07-24 20:41:37  2018-07-26 03:24:27   \n",
       "2    delivered      2018-08-08 08:38:49  2018-08-08 08:55:23   \n",
       "3    delivered      2017-11-18 19:28:06  2017-11-18 19:45:59   \n",
       "4    delivered      2018-02-13 21:18:39  2018-02-13 22:20:29   \n",
       "\n",
       "  order_delivered_carrier_date order_delivered_customer_date  \\\n",
       "0          2017-10-04 19:55:00           2017-10-10 21:25:13   \n",
       "1          2018-07-26 14:31:00           2018-08-07 15:27:45   \n",
       "2          2018-08-08 13:50:00           2018-08-17 18:06:29   \n",
       "3          2017-11-22 13:39:59           2017-12-02 00:28:42   \n",
       "4          2018-02-14 19:46:34           2018-02-16 18:17:02   \n",
       "\n",
       "  order_estimated_delivery_date                customer_unique_id  \\\n",
       "0           2017-10-18 00:00:00  7c396fd4830fd04220f754e42b4e5bff   \n",
       "1           2018-08-13 00:00:00  af07308b275d755c9edb36a90c618231   \n",
       "2           2018-09-04 00:00:00  3a653a41f6f9fc3d2a113cf8398680e8   \n",
       "3           2017-12-15 00:00:00  7c142cf63193a1473d2e66489a9ae977   \n",
       "4           2018-02-26 00:00:00  72632f0f9dd73dfee390c9b22eb56dd6   \n",
       "\n",
       "   customer_zip_code_prefix            customer_city customer_state  \\\n",
       "0                      3149                sao paulo             SP   \n",
       "1                     47813                barreiras             BA   \n",
       "2                     75265               vianopolis             GO   \n",
       "3                     59296  sao goncalo do amarante             RN   \n",
       "4                      9195              santo andre             SP   \n",
       "\n",
       "   order_item_id                        product_id  \\\n",
       "0              1  87285b34884572647811a353c7ac498a   \n",
       "1              1  595fac2a385ac33a80bd5114aec74eb8   \n",
       "2              1  aa4383b373c6aca5d8797843e5594415   \n",
       "3              1  d0b61bfb1de832b15ba9d266ca96e5b0   \n",
       "4              1  65266b2da20d04dbe00c5c2d3bb7859e   \n",
       "\n",
       "                          seller_id  shipping_limit_date   price  \\\n",
       "0  3504c0cb71d7fa48d967e0e4c94d59d9  2017-10-06 11:07:15   29.99   \n",
       "1  289cdb325fb7e7f891c38608bf9e0962  2018-07-30 03:24:27  118.70   \n",
       "2  4869f7a5dfa277a7dca6462dcf3b52b2  2018-08-13 08:55:23  159.90   \n",
       "3  66922902710d126a0e7d26b0e3805106  2017-11-23 19:45:59   45.00   \n",
       "4  2c9e548be18521d1c43cde1c582c6de8  2018-02-19 20:31:37   19.90   \n",
       "\n",
       "   freight_value  \n",
       "0           8.72  \n",
       "1          22.76  \n",
       "2          19.22  \n",
       "3          27.20  \n",
       "4           8.72  "
      ]
     },
     "execution_count": 5,
     "metadata": {},
     "output_type": "execute_result"
    }
   ],
   "source": [
    "df.head()"
   ]
  },
  {
   "cell_type": "markdown",
   "id": "1dcbd113",
   "metadata": {},
   "source": [
    "## Exercício 02\n",
    "Dados precisos são cruciais para uma análise eficaz. Identifique e trate valores ausentes ou duplicados nos datasets de clientes e pedidos. Explique sua abordagem e justifique as decisões tomadas para o tratamento desses dados."
   ]
  },
  {
   "cell_type": "code",
   "execution_count": 9,
   "id": "840dc3b2",
   "metadata": {
    "scrolled": true
   },
   "outputs": [
    {
     "name": "stdout",
     "output_type": "stream",
     "text": [
      "Valores ausentes:\n",
      " order_id                            0\n",
      "customer_id                         0\n",
      "order_status                        0\n",
      "order_purchase_timestamp            0\n",
      "order_approved_at                  15\n",
      "order_delivered_carrier_date     1194\n",
      "order_delivered_customer_date    2454\n",
      "order_estimated_delivery_date       0\n",
      "customer_unique_id                  0\n",
      "customer_zip_code_prefix            0\n",
      "customer_city                       0\n",
      "customer_state                      0\n",
      "order_item_id                       0\n",
      "product_id                          0\n",
      "seller_id                           0\n",
      "shipping_limit_date                 0\n",
      "price                               0\n",
      "freight_value                       0\n",
      "dtype: int64\n",
      "Duplicados:\n",
      " 0\n"
     ]
    }
   ],
   "source": [
    "print(\"Valores ausentes:\\n\", customer_df.isna().sum())\n"
   ]
  },
  {
   "cell_type": "code",
   "execution_count": 10,
   "id": "64845600-1a9f-4efb-b473-d8a7296f052b",
   "metadata": {},
   "outputs": [
    {
     "name": "stdout",
     "output_type": "stream",
     "text": [
      "Duplicados:\n",
      " 0\n"
     ]
    }
   ],
   "source": [
    "print(\"Duplicados:\\n\", df.duplicated().sum())"
   ]
  },
  {
   "cell_type": "markdown",
   "id": "a86e3a77",
   "metadata": {},
   "source": [
    "## Exercício 03\n",
    "Como parte do seu relatório mensal, você precisa fornecer um resumo estatístico dos preços dos produtos. Utilize o método describe() do Pandas para detalhar a distribuição dos preços, destacando possíveis outliers e sua possível influência no cálculo da média."
   ]
  },
  {
   "cell_type": "code",
   "execution_count": null,
   "id": "05dfc278",
   "metadata": {},
   "outputs": [],
   "source": [
    "# Código referente ao exercício 03\n"
   ]
  },
  {
   "cell_type": "markdown",
   "id": "b93bbd48",
   "metadata": {},
   "source": [
    "## Exercício 04\n",
    "A eficiência logística é vital para a satisfação do cliente. Adicione uma coluna ao DataFrame de pedidos que calcule o número de dias entre a data de compra e a data de entrega. Discuta como variações nesse prazo podem impactar a percepção do cliente."
   ]
  },
  {
   "cell_type": "code",
   "execution_count": null,
   "id": "4609b839",
   "metadata": {},
   "outputs": [],
   "source": [
    "# Código referente ao exercício 04\n"
   ]
  },
  {
   "cell_type": "markdown",
   "id": "66491ab8",
   "metadata": {},
   "source": [
    "## Exercício 05\n",
    "Visualizações claras podem revelar tendências que antes não eram possíveis de serem capturadas. Crie um gráfico de barras vertical que mostre o volume de vendas mensal por estado. Use essa visualização para identificar quais estados apresentaram maior crescimento no último ano."
   ]
  },
  {
   "cell_type": "code",
   "execution_count": null,
   "id": "6d0c1d32",
   "metadata": {},
   "outputs": [],
   "source": [
    "# Código referente ao exercício 05\n"
   ]
  },
  {
   "cell_type": "markdown",
   "id": "168c6af7",
   "metadata": {},
   "source": [
    "## Exercício 06\n",
    "Para incentivar uma competição saudável entre os vendedores, você decide analisar o desempenho individual. Calcule e visualize o total de vendas por vendedor usando um gráfico de barras horizontal no Matplotlib, destacando o vendedor com maior volume de vendas."
   ]
  },
  {
   "cell_type": "code",
   "execution_count": null,
   "id": "e8daff8f",
   "metadata": {},
   "outputs": [],
   "source": [
    "# Código referente ao exercício 06\n"
   ]
  },
  {
   "cell_type": "markdown",
   "id": "e4cc5ba5",
   "metadata": {},
   "source": [
    "## Exercício 07\n",
    "Entender a dinâmica de preços é crucial para estratégias de marketing. Utilize Numpy para calcular a média, mediana e desvio padrão dos preços dos produtos, discutindo como essas métricas podem ajudar na definição de estratégias de precificação."
   ]
  },
  {
   "cell_type": "code",
   "execution_count": null,
   "id": "f0695e00",
   "metadata": {},
   "outputs": [],
   "source": [
    "# Código referente ao exercício 07\n"
   ]
  },
  {
   "cell_type": "markdown",
   "id": "73e741ff",
   "metadata": {},
   "source": [
    "## Exercício 08\n",
    "A precisão nas previsões de entrega é um indicador chave de desempenho logístico. Desenvolva um método para comparar as datas estimadas e reais de entrega, identificando padrões de atrasos ou adiantamentos nas entregas. Faça um gráfico de linhas com o tempo médio de atraso por semana ao longo do tempo. O eixo y deve ser o tempo médio de atraso (em dias) e o eixo x as semanas do ano. "
   ]
  },
  {
   "cell_type": "code",
   "execution_count": null,
   "id": "e16fc1b4",
   "metadata": {},
   "outputs": [],
   "source": [
    "# Código referente ao exercício 08\n"
   ]
  },
  {
   "cell_type": "markdown",
   "id": "907a2714",
   "metadata": {},
   "source": [
    "## Exercício 09\n",
    "Investigue a relação entre o valor do frete e o preço dos produtos. Calcule a correlação entre esses dois fatores e crie um scatter plot para visualizar essa relação, discutindo como isso pode afetar as decisões de frete grátis."
   ]
  },
  {
   "cell_type": "code",
   "execution_count": null,
   "id": "4b3fbf65",
   "metadata": {},
   "outputs": [],
   "source": [
    "# Código referente ao exercício 09\n"
   ]
  },
  {
   "cell_type": "markdown",
   "id": "61eb6917",
   "metadata": {},
   "source": [
    "## Exercício 10\n",
    "Análises de feedback de clientes são essenciais para melhorias. Agrupe os dados de pedidos por avaliação média e calcule o volume de vendas para cada grupo, usando um gráfico de linha para mostrar a tendência de vendas em relação às avaliações."
   ]
  },
  {
   "cell_type": "code",
   "execution_count": null,
   "id": "8c772a54",
   "metadata": {},
   "outputs": [],
   "source": [
    "# Código referente ao exercício 10\n"
   ]
  },
  {
   "cell_type": "markdown",
   "id": "5b027e5d",
   "metadata": {},
   "source": [
    "## Exercício 11\n",
    "Com o fim do mês se aproximando, você precisa preparar e exportar os dados analisados para um relatório em formato CSV. Exporte o DataFrame final que inclui todos os dados e cálculos realizados, garantindo que esteja pronto para uso em outros softwares de análise."
   ]
  },
  {
   "cell_type": "code",
   "execution_count": null,
   "id": "254fb1d3",
   "metadata": {},
   "outputs": [],
   "source": [
    "# Código referente ao exercício 11\n"
   ]
  }
 ],
 "metadata": {
  "kernelspec": {
   "display_name": "Python 3 (ipykernel)",
   "language": "python",
   "name": "python3"
  },
  "language_info": {
   "codemirror_mode": {
    "name": "ipython",
    "version": 3
   },
   "file_extension": ".py",
   "mimetype": "text/x-python",
   "name": "python",
   "nbconvert_exporter": "python",
   "pygments_lexer": "ipython3",
   "version": "3.12.3"
  }
 },
 "nbformat": 4,
 "nbformat_minor": 5
}
